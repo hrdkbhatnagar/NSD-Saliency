{
 "cells": [
  {
   "cell_type": "code",
   "execution_count": 2,
   "id": "bf6fa491",
   "metadata": {},
   "outputs": [
    {
     "name": "stderr",
     "output_type": "stream",
     "text": [
      "/gpfs01/bartels/user/hbhatnagar/anaconda3/envs/NSD-Saliency/lib/python3.8/site-packages/tqdm/auto.py:22: TqdmWarning: IProgress not found. Please update jupyter and ipywidgets. See https://ipywidgets.readthedocs.io/en/stable/user_install.html\n",
      "  from .autonotebook import tqdm as notebook_tqdm\n"
     ]
    }
   ],
   "source": [
    "import os\n",
    "import numpy as np\n",
    "\n",
    "import pandas as pd\n",
    "import seaborn as sns\n",
    "import matplotlib.pyplot as plt\n",
    "\n",
    "import torch"
   ]
  },
  {
   "cell_type": "code",
   "execution_count": 3,
   "id": "150d3557",
   "metadata": {},
   "outputs": [],
   "source": [
    "import h5py\n",
    "\n",
    "\n",
    "import sys\n",
    "import struct\n",
    "import time\n",
    "\n",
    "from glob import glob\n",
    "import scipy.io as sio\n",
    "from scipy import ndimage as nd\n",
    "from scipy import misc\n",
    "from scipy.io import loadmat\n",
    "from tqdm import tqdm\n",
    "import multiprocessing as mp\n",
    "import pickle\n",
    "import math\n",
    "import PIL.Image as pim\n",
    "import PIL.ImageOps as pop\n",
    "\n",
    "%matplotlib inline"
   ]
  },
  {
   "cell_type": "code",
   "execution_count": 6,
   "id": "7fb82acb-cc68-4db3-bdfd-f6cc7f90c3b5",
   "metadata": {},
   "outputs": [],
   "source": [
    "fpX = np.float32\n",
    "from src.numpy_utility import mosaic_vis, iterate_minibatches\n",
    "from src.file_utility import save_stuff\n"
   ]
  },
  {
   "cell_type": "code",
   "execution_count": 11,
   "id": "754237ae-2a72-4fba-b03c-4c13498caed8",
   "metadata": {},
   "outputs": [
    {
     "name": "stdout",
     "output_type": "stream",
     "text": [
      "Current dir: /gpfs01/bartels/user/hbhatnagar/NSD-Saliency/\n",
      "Time Stamp: Oct-24-2022_1506\n"
     ]
    }
   ],
   "source": [
    "root_dir = '/gpfs01/bartels/user/hbhatnagar/NSD-Saliency/'\n",
    "output_dir = root_dir + \"output/\"\n",
    "\n",
    "timestamp = time.strftime('%b-%d-%Y_%H%M', time.localtime())\n",
    "\n",
    "print (\"Current dir: %s\" % root_dir)\n",
    "print (\"Time Stamp: %s\" % timestamp)"
   ]
  },
  {
   "cell_type": "code",
   "execution_count": 12,
   "id": "4624ca46-81f0-4c81-b78c-3aea884d1e0a",
   "metadata": {},
   "outputs": [],
   "source": [
    "def applyCropToImg(img, box):\n",
    "    '''\n",
    "    applyCropToImg(img, cropBox)\n",
    "    img ~ any h x w x n image\n",
    "    cropBox ~ (top, bottom, left, right) in fractions of image size\n",
    "    '''\n",
    "    if box[0]+box[1] >= 1:\n",
    "        raise ValueError('top and bottom crop must sum to less than 1')\n",
    "    if box[2]+box[3] >= 1:\n",
    "        raise ValueError('left and right crop must sum to less than 1')\n",
    "    shape = img.shape\n",
    "    topCrop = np.round(shape[0]*box[0]).astype(int)\n",
    "    bottomCrop = np.round(shape[0]*box[1]).astype(int)\n",
    "    leftCrop = np.round(shape[1]*box[2]).astype(int)\n",
    "    rightCrop = np.round(shape[1]*box[3]).astype(int)\n",
    "    croppedImage = img[topCrop:(shape[0]-bottomCrop),leftCrop:(shape[1]-rightCrop)]\n",
    "    return croppedImage\n",
    "\n",
    "def maskToIndices(img):\n",
    "    return img[:,:,0]+img[:,:,1]*256+img[:,:,2]*(256**2)\n",
    "def maskToUniqueIndices(img):\n",
    "    imgSegIds = list(np.unique(maskToIndices(img)))\n",
    "    if 0 in imgSegIds:\n",
    "        imgSegIds.remove(0)\n",
    "    return imgSegIds\n",
    "\n",
    "def maskToUniqueIndices(img):\n",
    "    imgSegIds = list(np.unique(maskToIndices(img)))\n",
    "    if 0 in imgSegIds:\n",
    "        imgSegIds.remove(0)\n",
    "    return np.unique(imgSegIds)\n",
    "def getCategoryIDs(annotations, imgSegIds):\n",
    "    segToCatId = defaultdict(list)\n",
    "    for ann in annotations:\n",
    "        for seg in ann['segments_info']:\n",
    "            segToCatId[seg['id']] = seg['category_id']\n",
    "    return [segToCatId[s] for s in imgSegIds if s in segToCatId]\n",
    "\n",
    "def getCategoryNames(catIdToCat, catIds):\n",
    "    # getCategoryNames(catToCat, catIds)\n",
    "    return np.unique([catIdToCat[c][0]['name'] for c in catIds])\n",
    "def getSupercategoryNames(catIdToCat, catIds):\n",
    "    # getSupercategoryNames(catToCat, catIds)\n",
    "    return np.unique([catIdToCat[c][0]['supercategory'] for c in catIds])\n",
    "\n",
    "def supercategoryMap(croppedImg, annotations, embbeding):\n",
    "    # supercategoryMap(croppedImg, imgIdToAnns[cId], class_embbeding)\n",
    "    segmentMap = maskToIndices(croppedImg).flatten()\n",
    "    superMap = np.full(fill_value=-1, shape=segmentMap.shape, dtype=np.int)\n",
    "    imgSegIds = maskToUniqueIndices(croppedImg)\n",
    "    catIds = getCategoryIDs(annotations, imgSegIds)\n",
    "    for c,s in zip(catIds, imgSegIds):\n",
    "        supercat = getSupercategoryNames(catIdToCat, [c])[0]\n",
    "        superMap[segmentMap==s] = embbeding[supercat]            \n",
    "    return superMap.reshape(croppedImg.shape[:2])"
   ]
  },
  {
   "cell_type": "markdown",
   "id": "758c2c47-2880-4acf-a5b7-60caa0b3ce50",
   "metadata": {},
   "source": [
    "# Load the dataset"
   ]
  },
  {
   "cell_type": "code",
   "execution_count": 16,
   "id": "1cc5bb87-f535-49b4-971b-979beb1007fc",
   "metadata": {},
   "outputs": [],
   "source": [
    "nsd_root   = \"/gpfs01/bartels/user/hbhatnagar/NSD_dataset/\"\n",
    "stim_root  = nsd_root + \"nsddata_stimuli/stimuli/nsd/\"\n",
    "synth_root = nsd_root + \"nsddata_stimuli/stimuli/nsdsynthetic/\"\n",
    "beta_root  = nsd_root + \"nsddata_betas/ppdata/\"\n",
    "\n",
    "exp_design_file = nsd_root + \"nsddata/experiments/nsd/nsd_expdesign.mat\"\n",
    "synth_design_file = nsd_root + \"nsddata/experiments/nsdsynthetic/nsdsynthetic_expdesign.mat\"\n",
    "stim_file       = stim_root + \"nsd_stimuli.hdf5\"\n",
    "synth_file      = synth_root + \"nsdsynthetic_stimuli.hdf5\""
   ]
  },
  {
   "cell_type": "code",
   "execution_count": 17,
   "id": "660bf254-93f2-45d5-b6da-08dd526a8155",
   "metadata": {},
   "outputs": [],
   "source": [
    "exp_design = loadmat(exp_design_file)"
   ]
  },
  {
   "cell_type": "code",
   "execution_count": 18,
   "id": "16c7c609-c6c5-429d-9990-8181cf50316a",
   "metadata": {},
   "outputs": [
    {
     "name": "stdout",
     "output_type": "stream",
     "text": [
      "dict_keys(['__header__', '__version__', '__globals__', 'basiccnt', 'masterordering', 'sharedix', 'stimpattern', 'subjectim'])\n"
     ]
    }
   ],
   "source": [
    "print(exp_design.keys())"
   ]
  },
  {
   "cell_type": "code",
   "execution_count": null,
   "id": "6a79adc6-8f6c-454c-806c-2fce79d6f9af",
   "metadata": {},
   "outputs": [],
   "source": []
  }
 ],
 "metadata": {
  "kernelspec": {
   "display_name": "Python 3",
   "language": "python",
   "name": "python3"
  },
  "language_info": {
   "codemirror_mode": {
    "name": "ipython",
    "version": 3
   },
   "file_extension": ".py",
   "mimetype": "text/x-python",
   "name": "python",
   "nbconvert_exporter": "python",
   "pygments_lexer": "ipython3",
   "version": "3.8.13"
  }
 },
 "nbformat": 4,
 "nbformat_minor": 5
}
